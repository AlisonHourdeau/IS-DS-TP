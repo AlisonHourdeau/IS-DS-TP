{
  "nbformat": 4,
  "nbformat_minor": 5,
  "metadata": {
    "date": 1612278880.6681178,
    "filename": "tpForetsAleatoires.rst",
    "kernelspec": {
      "display_name": "Python",
      "language": "python",
      "name": "python"
    },
    "title": "Travaux pratiques - Forêts aléatoires",
    "colab": {
      "name": "tpForetsAleatoires_sol.ipynb",
      "provenance": [],
      "collapsed_sections": []
    }
  },
  "cells": [
    {
      "cell_type": "markdown",
      "metadata": {
        "id": "champion-debut"
      },
      "source": [
        "\n",
        "<a id='chap-tpforetsaleatoires'></a>"
      ],
      "id": "champion-debut"
    },
    {
      "cell_type": "markdown",
      "metadata": {
        "id": "cosmetic-council"
      },
      "source": [
        "# Travaux pratiques - Forêts aléatoires\n",
        "\n",
        "L’objectif de cette séance de travaux pratiques est de montrer l’utilisation des méthodes d’agrégation (*bagging*, forêts aléatoires, *boosting*) pour les problèmes de classification et de régression, en python avec Sciki-learn. Ce document reprend librement certains exemples présentés dans la documentation de Scikit-learn.\n",
        "\n",
        "Références externes utiles :\n",
        "\n",
        "> - [Documentation NumPy](https://docs.scipy.org/doc/numpy/user/index.html)  \n",
        "- [Documentation SciPy](https://docs.scipy.org/doc/scipy/reference/)  \n",
        "- [Documentation MatPlotLib](http://matplotlib.org/)  \n",
        "- [Site scikit-learn](http://scikit-learn.org/stable/index.html)  \n",
        "- [Site langage python](https://www.python.org)  "
      ],
      "id": "cosmetic-council"
    },
    {
      "cell_type": "markdown",
      "metadata": {
        "id": "lesbian-librarian"
      },
      "source": [
        "## Méthodes d’agrégation\n",
        "\n",
        "Les méthodes ensemblistes (ou d’agrégation) pour les algorithmes d’apprentissage statistique (en anglais : *ensemble learning*) sont basées sur l’idée de combiner les prédictions de plusieurs prédicteurs (ou classifieurs) pour une meilleure généralisation et pour compenser les défauts éventuels de prédicteurs\n",
        "individuels.\n",
        "\n",
        "En général, on distingue deux familles de méthodes de ce type :\n",
        "\n",
        "1. Méthodes par moyennage (*bagging*, forêts aléatoires) où le principe est de faire la moyenne de plusieurs prédictions en espérant un meilleur résultat suite à la réduction de variance de l’éstimateur moyenne.  \n",
        "1. Méthodes adaptatives (*boosting*) où les paramètres sont itérativement adaptés pour produire un meilleur mélange.  \n",
        "\n",
        "\n",
        "Dans la suite nous explorerons chacune de ces classes d’algorithme en Scikit-learn et présenterons quelques comparaisons."
      ],
      "id": "lesbian-librarian"
    },
    {
      "cell_type": "markdown",
      "metadata": {
        "id": "distinguished-athens"
      },
      "source": [
        "## *Bagging*\n",
        "\n",
        "Les méthodes de type *bagging* construisent plusieurs instances d’un estimateur, calculées sur des échantillons aléatoires tirés de la base d’apprentissage (et éventuellement une partie des attributs, également sélectionnés de façon aléatoire), et ensuite combine les prédictions individuelles en réalisant leur moyenne pour réduire la variance de l’estimateur. Leur avantage principal réside dans le fait qu’ils construisent une version améliorée de l’algorithme de base, sans demander de modification de cet algorithme. Le prix à payer est un coût de calcul plus élevé. Comme elles réduisent le sur-apprentissage, les méthodes *bagging* fonctionnent très bien avec des prédicteurs « forts ». Par contraste, les méthodes *boosting* sont mieux adaptées à des prédicteurs faibles (*weak learners*).\n",
        "\n",
        "Dans Scikit-learn, les méthodes de *bagging* sont implémentées via la classe `BaggingClassifier` et `BaggingRegressor`. Les constructeurs prennent en paramètres un estimateur de base et la stratégie de sélection des points et attributs :\n",
        "\n",
        "> - `base_estimator` : optionnel (default=None). Si None alors l’estimateur est un arbre de décision.  \n",
        "- `max_samples` : la taille de l’échantillon aléatoire tiré de la base d’apprentissage.  \n",
        "- `max_features` : le nombre d’attributs tirés aléatoirement.  \n",
        "- `bootstrap` : boolean, optionnel (default=True). Tirage des points avec remise ou non.  \n",
        "- `bootstrap_features` : boolean, optionnel (default=False). Tirage des attributs avec remise ou non.  \n",
        "- `oob_score` : boolean. Estimer ou non l’erreur de généralisation OOB (*Out of Bag*).  \n",
        "\n",
        "\n",
        "\n",
        "Le code suivant construit un ensemble des classifieurs. Chaque classifieur de base est un `KNeighborsClassifier` (c’est-à-dire k-plus-proches-voisins), chacun utilisant au maximum 50% des points pour son apprentissage et la moitié des attributs (*features*) :"
      ],
      "id": "distinguished-athens"
    },
    {
      "cell_type": "code",
      "metadata": {
        "hide-output": false,
        "id": "collected-philip"
      },
      "source": [
        "from sklearn.ensemble import BaggingClassifier\n",
        "from sklearn.neighbors import KNeighborsClassifier\n",
        "bagging = BaggingClassifier(KNeighborsClassifier(), max_samples=0.5, max_features=0.5)"
      ],
      "id": "collected-philip",
      "execution_count": 1,
      "outputs": []
    },
    {
      "cell_type": "markdown",
      "metadata": {
        "id": "mental-sheep"
      },
      "source": [
        "Dans cet exemple nous allons utiliser la base de données `digits`, qui contient 10 classes (images des chiffres en écriture manuscrite). Il y a 1797 éléments, chaque élément a 64 attributs (8 pixels par 8)."
      ],
      "id": "mental-sheep"
    },
    {
      "cell_type": "code",
      "metadata": {
        "hide-output": false,
        "colab": {
          "base_uri": "https://localhost:8080/",
          "height": 78
        },
        "id": "atlantic-gender",
        "outputId": "afa904d8-90ac-4ac2-e9ac-84238427f45b"
      },
      "source": [
        "from sklearn.datasets import load_digits\n",
        "digits = load_digits()\n",
        "\n",
        "# Affichage des 10 premières images\n",
        "import matplotlib.pyplot as plt\n",
        "fig = plt.figure()\n",
        "for i, digit in enumerate(digits.images[:10]):\n",
        "    fig.add_subplot(1,10,i+1)\n",
        "    plt.imshow(digit)\n",
        "plt.show()"
      ],
      "id": "atlantic-gender",
      "execution_count": 2,
      "outputs": [
        {
          "output_type": "display_data",
          "data": {
            "image/png": "[encoded data removed]",
            "text/plain": [
              "<Figure size 432x288 with 10 Axes>"
            ]
          },
          "metadata": {
            "tags": [],
            "needs_background": "light"
          }
        }
      ]
    },
    {
      "cell_type": "markdown",
      "metadata": {
        "id": "pressed-whole"
      },
      "source": [
        "Pour ce TP, nous allons utiliser comme classifieur de base un arbre de décision `DecisionTreeClassifier`. Ce classifieur nous permet d’établir des performances de référence (c’est un ensemble à 1 modèle)."
      ],
      "id": "pressed-whole"
    },
    {
      "cell_type": "code",
      "metadata": {
        "hide-output": false,
        "colab": {
          "base_uri": "https://localhost:8080/"
        },
        "id": "outstanding-sentence",
        "outputId": "e2368db9-23b2-4618-8b99-5600e50bd448"
      },
      "source": [
        "import numpy as np\n",
        "from sklearn import tree\n",
        "from sklearn.ensemble import BaggingClassifier\n",
        "\n",
        "X, y = digits.data, digits.target\n",
        "clf = tree.DecisionTreeClassifier()\n",
        "clf.fit(X, y)\n",
        "accuracy = clf.score(X,y)\n",
        "print(accuracy)"
      ],
      "id": "outstanding-sentence",
      "execution_count": 3,
      "outputs": [
        {
          "output_type": "stream",
          "text": [
            "1.0\n"
          ],
          "name": "stdout"
        }
      ]
    },
    {
      "cell_type": "markdown",
      "metadata": {
        "id": "joint-thailand"
      },
      "source": [
        "Sur la base d’apprentissage `accuracy = 1` . Pour plus de réalisme, découpons la base de données en un jeu d’apprentissage et un je de test afin de voir le comportement de généralisation de l’arbre sur des données différentes des celles d’apprentissage :"
      ],
      "id": "joint-thailand"
    },
    {
      "cell_type": "code",
      "metadata": {
        "hide-output": false,
        "colab": {
          "base_uri": "https://localhost:8080/"
        },
        "id": "innocent-logic",
        "outputId": "4c60e954-5229-43ce-9942-61c856446650"
      },
      "source": [
        "from sklearn.model_selection import train_test_split\n",
        "# 90% des données pour le test, 10% pour l'apprentissage\n",
        "X_train, X_test, y_train, y_test = train_test_split(X, y, test_size=0.90)\n",
        "\n",
        "clf = tree.DecisionTreeClassifier()\n",
        "clf.fit(X_train, y_train)\n",
        "\n",
        "Z = clf.predict(X_test)\n",
        "accuracy = clf.score(X_test,y_test)\n",
        "print(accuracy)"
      ],
      "id": "innocent-logic",
      "execution_count": 4,
      "outputs": [
        {
          "output_type": "stream",
          "text": [
            "0.6878862793572311\n"
          ],
          "name": "stdout"
        }
      ]
    },
    {
      "cell_type": "markdown",
      "metadata": {
        "id": "handed-expansion"
      },
      "source": [
        "## Question :\n",
        "\n",
        "Construire la variance de la valeur `accuracy` sur 100 tirages pour la séparation apprentissage/test. Que pouvons-nous conclure ?"
      ],
      "id": "handed-expansion"
    },
    {
      "cell_type": "code",
      "metadata": {
        "hide-output": false,
        "colab": {
          "base_uri": "https://localhost:8080/"
        },
        "id": "published-bread",
        "outputId": "dd3238c0-63b5-45e2-d884-2f30f8edd159"
      },
      "source": [
        "acc_tot = []\n",
        "for i in range(100):\n",
        "  X_train, X_test, y_train, y_test = train_test_split(X, y, test_size=0.90)\n",
        "  clf = tree.DecisionTreeClassifier()\n",
        "  clf.fit(X_train, y_train)\n",
        "\n",
        "  Z = clf.predict(X_test)\n",
        "  acc_tot.append(clf.score(X_test,y_test))\n",
        "\n",
        "print(acc_tot)\n",
        "variance = np.var(acc_tot)\n",
        "print(\"variance = \", variance)\n",
        "print(\"moyenne = \", np.mean(acc_tot))\n",
        "print(np.sum((acc_tot - np.mean(acc_tot))**2)/100)"
      ],
      "id": "published-bread",
      "execution_count": null,
      "outputs": [
        {
          "output_type": "stream",
          "text": [
            "[0.6817058096415327, 0.6817058096415327, 0.607540173053152, 0.6452410383189122, 0.6773794808405439, 0.681087762669963, 0.7064276885043264, 0.6236093943139679, 0.7051915945611866, 0.6372064276885043, 0.7243510506798516, 0.6644004944375772, 0.6847960444993819, 0.6953028430160693, 0.703955500618047, 0.7583436341161929, 0.7082818294190358, 0.69221260815822, 0.6470951792336218, 0.6742892459826947, 0.7126081582200248, 0.6934487021013597, 0.6854140914709518, 0.7082818294190358, 0.7354758961681088, 0.6674907292954264, 0.6909765142150803, 0.6501854140914709, 0.7181705809641533, 0.6063040791100124, 0.7021013597033374, 0.6835599505562423, 0.6699629171817059, 0.7132262051915945, 0.6934487021013597, 0.715698393077874, 0.6786155747836835, 0.6829419035846724, 0.6508034610630408, 0.6637824474660075, 0.7132262051915945, 0.7132262051915945, 0.6798516687268232, 0.7237330037082819, 0.7126081582200248, 0.6569839307787392, 0.6909765142150803, 0.676761433868974, 0.700247218788628, 0.6619283065512979, 0.7336217552533992, 0.7237330037082819, 0.7212608158220025, 0.6705809641532756, 0.6891223733003708, 0.6359703337453646, 0.6755253399258344, 0.6897404202719407, 0.7058096415327565, 0.6983930778739185, 0.6526576019777504, 0.6650185414091471, 0.7274412855377008, 0.6860321384425216, 0.6817058096415327, 0.7095179233621756, 0.7224969097651421, 0.676761433868974, 0.7416563658838071, 0.688504326328801, 0.7169344870210136, 0.6718170580964153, 0.7064276885043264, 0.700247218788628, 0.7292954264524104, 0.642150803461063, 0.6705809641532756, 0.6674907292954264, 0.6990111248454882, 0.6483312731767614, 0.7428924598269468, 0.6903584672435105, 0.6724351050679852, 0.6322620519159456, 0.7021013597033374, 0.6990111248454882, 0.681087762669963, 0.681087762669963, 0.7045735475896168, 0.6483312731767614, 0.6557478368355995, 0.7132262051915945, 0.6718170580964153, 0.6829419035846724, 0.6687268232385661, 0.7262051915945612, 0.6711990111248455, 0.7330037082818294, 0.6520395550061805, 0.6600741656365884]\n",
            "variance =  0.000878932276108856\n",
            "moyenne =  0.6868912237330036\n",
            "0.000878932276108856\n"
          ],
          "name": "stdout"
        }
      ]
    },
    {
      "cell_type": "markdown",
      "metadata": {
        "id": "auburn-friend"
      },
      "source": [
        "Pour comparer, construisons maintenant un classifieur *bagging* sur nos données, toujours basé sur les `DecisionTreeClassifier` :"
      ],
      "id": "auburn-friend"
    },
    {
      "cell_type": "code",
      "metadata": {
        "hide-output": false,
        "id": "owned-conclusion"
      },
      "source": [
        "clf = BaggingClassifier(tree.DecisionTreeClassifier(), max_samples=0.5, max_features=0.5, n_estimators=200)"
      ],
      "id": "owned-conclusion",
      "execution_count": null,
      "outputs": []
    },
    {
      "cell_type": "markdown",
      "metadata": {
        "id": "upper-idaho"
      },
      "source": [
        "L’apprentissage et l’évaluation de cet ensemble se font de la façon habituelle :"
      ],
      "id": "upper-idaho"
    },
    {
      "cell_type": "code",
      "metadata": {
        "hide-output": false,
        "colab": {
          "base_uri": "https://localhost:8080/"
        },
        "id": "distant-acceptance",
        "outputId": "ddc44e35-70f5-4420-b190-8cc7be3ac3c2"
      },
      "source": [
        "clf.fit(X_train, y_train)\n",
        "Z = clf.predict(X_test)\n",
        "accuracy=clf.score(X_test,y_test)\n",
        "print(\"accuracy = \", accuracy)"
      ],
      "id": "distant-acceptance",
      "execution_count": 6,
      "outputs": [
        {
          "output_type": "stream",
          "text": [
            "accuracy =  0.9060568603213844\n"
          ],
          "name": "stdout"
        }
      ]
    },
    {
      "cell_type": "code",
      "metadata": {
        "colab": {
          "base_uri": "https://localhost:8080/",
          "height": 298
        },
        "id": "NO03MOMrBeGP",
        "outputId": "d8b1e6e6-8634-454a-9311-4fe6ea2c6c17"
      },
      "source": [
        "import matplotlib.pyplot as plt\n",
        "\n",
        "X_train, X_test, y_train, y_test = train_test_split(X, y, test_size=0.90)\n",
        "acc_tot = []\n",
        "nb_est = []\n",
        "for i in range(1,200):\n",
        "  clf = BaggingClassifier(tree.DecisionTreeClassifier(), max_samples=0.5, max_features=0.5, n_estimators=i)\n",
        "  clf.fit(X_train, y_train)\n",
        "  Z = clf.predict(X_test)\n",
        "  acc_tot.append(clf.score(X_test,y_test))\n",
        "  nb_est.append(i)\n",
        "fig = plt.figure(figsize=(12, 4))\n",
        "plt.plot(nb_est, acc_tot)\n",
        "plt.title(\"accuracy\")"
      ],
      "id": "NO03MOMrBeGP",
      "execution_count": 5,
      "outputs": [
        {
          "output_type": "execute_result",
          "data": {
            "text/plain": [
              "Text(0.5, 1.0, 'accuracy')"
            ]
          },
          "metadata": {
            "tags": []
          },
          "execution_count": 5
        },
        {
          "output_type": "display_data",
          "data": {
            "image/png": "[encoded data removed]",
            "text/plain": [
              "<Figure size 864x288 with 1 Axes>"
            ]
          },
          "metadata": {
            "tags": [],
            "needs_background": "light"
          }
        }
      ]
    },
    {
      "cell_type": "markdown",
      "metadata": {
        "id": "imposed-benchmark"
      },
      "source": [
        "## Question :\n",
        "\n",
        "Calculer la variance de la valeur `accuracy` sur 100 tirages pour la séparation apprentissage/test. Comparer avec la variance du classifieur de base. Que pouvons-nous conclure ?"
      ],
      "id": "imposed-benchmark"
    },
    {
      "cell_type": "code",
      "metadata": {
        "hide-output": false,
        "colab": {
          "base_uri": "https://localhost:8080/"
        },
        "id": "strategic-guitar",
        "outputId": "d49d6427-962a-4573-fc82-f9221dc2c98c"
      },
      "source": [
        "acc_tot = []\n",
        "for i in range(100):\n",
        "  X_train, X_test, y_train, y_test = train_test_split(X, y, test_size=0.90)\n",
        "  clf = BaggingClassifier(tree.DecisionTreeClassifier(), max_samples=0.5, max_features=0.5, n_estimators=200)\n",
        "  clf.fit(X_train, y_train)\n",
        "\n",
        "  Z = clf.predict(X_test)\n",
        "  acc_tot.append(clf.score(X_test,y_test))\n",
        "\n",
        "print(acc_tot)\n",
        "variance = np.var(acc_tot)\n",
        "print(\"variance = \", variance)\n",
        "print(\"moyenne = \", np.mean(acc_tot))\n",
        "print(np.sum((acc_tot - np.mean(acc_tot))**2)/100)"
      ],
      "id": "strategic-guitar",
      "execution_count": null,
      "outputs": [
        {
          "output_type": "stream",
          "text": [
            "[0.899876390605686, 0.9011124845488258, 0.9048207663782447, 0.8646477132262052, 0.9147095179233622, 0.8881334981458591, 0.9004944375772559, 0.9245982694684796, 0.8912237330037083, 0.9103831891223733, 0.8906056860321384, 0.9011124845488258, 0.8498145859085291, 0.8868974042027195, 0.9289245982694685, 0.9171817058096415, 0.8813349814585909, 0.9060568603213844, 0.892459826946848, 0.9103831891223733, 0.8788627935723115, 0.8906056860321384, 0.9134734239802225, 0.9017305315203955, 0.9017305315203955, 0.9134734239802225, 0.8918417799752781, 0.9011124845488258, 0.8868974042027195, 0.8943139678615575, 0.9048207663782447, 0.8881334981458591, 0.9103831891223733, 0.9128553770086527, 0.8838071693448702, 0.853522867737948, 0.8776266996291718, 0.8980222496909765, 0.896168108776267, 0.9103831891223733, 0.8102595797280593, 0.907292954264524, 0.8862793572311496, 0.8856613102595797, 0.8850432632880099, 0.8813349814585909, 0.9048207663782447, 0.8899876390605687, 0.8992583436341162, 0.8943139678615575, 0.9004944375772559, 0.9208899876390606, 0.8838071693448702, 0.8522867737948084, 0.9054388133498146, 0.892459826946848, 0.8856613102595797, 0.8683559950556242, 0.8838071693448702, 0.8597033374536465, 0.8986402966625463, 0.8955500618046972, 0.8677379480840544, 0.9017305315203955, 0.8868974042027195, 0.8906056860321384, 0.8868974042027195, 0.8862793572311496, 0.9122373300370828, 0.8702101359703337, 0.8912237330037083, 0.8788627935723115, 0.9004944375772559, 0.8757725587144622, 0.9060568603213844, 0.8955500618046972, 0.9048207663782447, 0.911619283065513, 0.880716934487021, 0.8899876390605687, 0.8757725587144622, 0.8967861557478368, 0.8689740420271941, 0.8714462299134734, 0.9097651421508035, 0.8936959208899876, 0.9048207663782447, 0.9103831891223733, 0.9023485784919654, 0.911619283065513, 0.8967861557478368, 0.8930778739184178, 0.877008652657602, 0.8992583436341162, 0.8912237330037083, 0.8831891223733004, 0.9085290482076638, 0.9091470951792336, 0.9066749072929543, 0.8949320148331273]\n",
            "variance =  0.0003063036207315415\n",
            "moyenne =  0.8930902348578493\n",
            "0.0003063036207315415\n"
          ],
          "name": "stdout"
        }
      ]
    },
    {
      "cell_type": "markdown",
      "metadata": {
        "id": "interested-architecture"
      },
      "source": [
        "## Question :\n",
        "\n",
        "Faites varier les parametres `max_samples` et `max_features`. Pour quelles valeurs on obtient le meilleur résultat ? On pourra notamment utiliser `GridSearchCV` pour réaliser une recherche systématique."
      ],
      "id": "interested-architecture"
    },
    {
      "cell_type": "code",
      "metadata": {
        "hide-output": false,
        "colab": {
          "base_uri": "https://localhost:8080/"
        },
        "id": "infinite-quebec",
        "outputId": "d77c92c5-a95c-4c51-fa04-855b60cb7835"
      },
      "source": [
        "from sklearn.model_selection import GridSearchCV\n",
        "clf = BaggingClassifier(tree.DecisionTreeClassifier(), n_estimators=200)\n",
        "parameters = {'max_samples':np.arange(0.1, 0.8, 0.1), 'max_features':np.arange(0.1, 0.8, 0.1)}\n",
        "clf = GridSearchCV(clf, parameters)\n",
        "clf.fit(X_train, y_train)\n",
        "print(\"Best estimator found by grid search:\")\n",
        "print(clf.best_estimator_)\n",
        "\n",
        "y_pred = clf.predict(X_test)\n",
        "accuracy = clf.score(X_test,y_test)\n",
        "print(accuracy)"
      ],
      "id": "infinite-quebec",
      "execution_count": null,
      "outputs": [
        {
          "output_type": "stream",
          "text": [
            "Best estimator found by grid search:\n",
            "BaggingClassifier(base_estimator=DecisionTreeClassifier(ccp_alpha=0.0,\n",
            "                                                        class_weight=None,\n",
            "                                                        criterion='gini',\n",
            "                                                        max_depth=None,\n",
            "                                                        max_features=None,\n",
            "                                                        max_leaf_nodes=None,\n",
            "                                                        min_impurity_decrease=0.0,\n",
            "                                                        min_impurity_split=None,\n",
            "                                                        min_samples_leaf=1,\n",
            "                                                        min_samples_split=2,\n",
            "                                                        min_weight_fraction_leaf=0.0,\n",
            "                                                        presort='deprecated',\n",
            "                                                        random_state=None,\n",
            "                                                        splitter='best'),\n",
            "                  bootstrap=True, bootstrap_features=False, max_features=0.4,\n",
            "                  max_samples=0.7000000000000001, n_estimators=200, n_jobs=None,\n",
            "                  oob_score=False, random_state=None, verbose=0,\n",
            "                  warm_start=False)\n",
            "0.8708281829419036\n"
          ],
          "name": "stdout"
        }
      ]
    },
    {
      "cell_type": "markdown",
      "metadata": {
        "id": "colonial-diesel"
      },
      "source": [
        "## Forêts aléatoires\n",
        "\n",
        "L’algorithme des forêts aléatoires propose une optimisation des arbres de décision. Il utilise le même principe que le *bagging*, mais avec une étape supplémentaire de randomisation dans la sélection des attributs des nœuds dans le but de réduire la variance de l’estimateur obtenu. Les deux objets Python qui implémentent les forêts aléatoires sont `RandomForestClassifier` et `RandomForestRegressor`. Les paramètres les plus importants sont :\n",
        "\n",
        "> - `n_estimators` : integer, optional (default=10). Le nombre d’arbres.  \n",
        "- `max_features` : le nombre d’attributs à considérer à chaque split.  \n",
        "- `max_samples` : la taille de l’échantillon aléatoire tiré de la base d’apprentissage.  \n",
        "- `min_samples_leaf` : le nombre minimal d’éléments dans un nœud feuille.  \n",
        "- `oob_score` : boolean. Estimer ou non l’erreur de généralisation OOB (*Out of Bag*).  \n",
        "\n",
        "\n",
        "\n",
        "Par la suite nous allons refaire la classification sur la base Digits en utilisant un classifieur `RandomForestClassifier`. Comme d’habitude, on sépare les données en gardant 10% pour l’apprentissage et 90% pour le test."
      ],
      "id": "colonial-diesel"
    },
    {
      "cell_type": "code",
      "metadata": {
        "hide-output": false,
        "id": "modular-mistress"
      },
      "source": [
        "digits = load_digits()\n",
        "X, y = digits.data, digits.target\n",
        "\n",
        "from sklearn.model_selection import train_test_split\n",
        "X_train, X_test, y_train, y_test = train_test_split(X, y, test_size=0.90)"
      ],
      "id": "modular-mistress",
      "execution_count": 10,
      "outputs": []
    },
    {
      "cell_type": "markdown",
      "metadata": {
        "id": "desperate-convention"
      },
      "source": [
        "On peut désormais créer et entraîner notre modèle :"
      ],
      "id": "desperate-convention"
    },
    {
      "cell_type": "code",
      "metadata": {
        "hide-output": false,
        "id": "accomplished-martin",
        "colab": {
          "base_uri": "https://localhost:8080/"
        },
        "outputId": "9fe7b9a2-b3ce-4b81-a638-441d6a48ffeb"
      },
      "source": [
        "from sklearn.ensemble import RandomForestClassifier\n",
        "clf = RandomForestClassifier(n_estimators=200)\n",
        "clf.fit(X_train, y_train)"
      ],
      "id": "accomplished-martin",
      "execution_count": 11,
      "outputs": [
        {
          "output_type": "execute_result",
          "data": {
            "text/plain": [
              "RandomForestClassifier(bootstrap=True, ccp_alpha=0.0, class_weight=None,\n",
              "                       criterion='gini', max_depth=None, max_features='auto',\n",
              "                       max_leaf_nodes=None, max_samples=None,\n",
              "                       min_impurity_decrease=0.0, min_impurity_split=None,\n",
              "                       min_samples_leaf=1, min_samples_split=2,\n",
              "                       min_weight_fraction_leaf=0.0, n_estimators=200,\n",
              "                       n_jobs=None, oob_score=False, random_state=None,\n",
              "                       verbose=0, warm_start=False)"
            ]
          },
          "metadata": {
            "tags": []
          },
          "execution_count": 11
        }
      ]
    },
    {
      "cell_type": "markdown",
      "metadata": {
        "id": "logical-portal"
      },
      "source": [
        "Puis réaliser les prédictions et calculer le score de test :"
      ],
      "id": "logical-portal"
    },
    {
      "cell_type": "code",
      "metadata": {
        "hide-output": false,
        "id": "fitted-celebration",
        "colab": {
          "base_uri": "https://localhost:8080/"
        },
        "outputId": "a5dc228d-be8d-4e41-ccab-355d1d63d046"
      },
      "source": [
        "y_pred = clf.predict(X_test)\n",
        "accuracy = clf.score(X_test,y_test)\n",
        "print(accuracy)"
      ],
      "id": "fitted-celebration",
      "execution_count": 12,
      "outputs": [
        {
          "output_type": "stream",
          "text": [
            "0.9202719406674907\n"
          ],
          "name": "stdout"
        }
      ]
    },
    {
      "cell_type": "markdown",
      "metadata": {
        "id": "tough-genesis"
      },
      "source": [
        "## Question :\n",
        "\n",
        "Comment la valeur de la variable `accuracy` se compare avec le cas *bagging* qui utilise le même nombre d’arbres (200 dans notre cas) ?"
      ],
      "id": "tough-genesis"
    },
    {
      "cell_type": "code",
      "metadata": {
        "hide-output": false,
        "id": "referenced-silly"
      },
      "source": [
        ""
      ],
      "id": "referenced-silly",
      "execution_count": null,
      "outputs": []
    },
    {
      "cell_type": "markdown",
      "metadata": {
        "id": "diverse-invalid"
      },
      "source": [
        "## Question :\n",
        "\n",
        "Construire la variance de la valeur `accuracy` sur 100 tirages pour la séparation apprentissage/test. Que pouvons-nous conclure en comparant avec la séction précedente (*bagging*) ?"
      ],
      "id": "diverse-invalid"
    },
    {
      "cell_type": "code",
      "metadata": {
        "hide-output": false,
        "id": "exceptional-desert",
        "colab": {
          "base_uri": "https://localhost:8080/"
        },
        "outputId": "fda560a5-e949-4eb1-931a-09f49ec4dc7a"
      },
      "source": [
        "acc_tot = []\n",
        "for i in range(100):\n",
        "  X_train, X_test, y_train, y_test = train_test_split(X, y, test_size=0.90)\n",
        "  clf = RandomForestClassifier(n_estimators=200)\n",
        "  clf.fit(X_train, y_train)\n",
        "\n",
        "  Z = clf.predict(X_test)\n",
        "  acc_tot.append(clf.score(X_test,y_test))\n",
        "\n",
        "print(acc_tot)\n",
        "variance = np.var(acc_tot)\n",
        "print(\"variance = \", variance)\n",
        "print(\"moyenne = \", np.mean(acc_tot))"
      ],
      "id": "exceptional-desert",
      "execution_count": null,
      "outputs": [
        {
          "output_type": "stream",
          "text": [
            "[0.9165636588380717, 0.9258343634116193, 0.9320148331273177, 0.9208899876390606, 0.8893695920889988, 0.9165636588380717, 0.919035846724351, 0.9245982694684796, 0.9110012360939431, 0.9196538936959209, 0.9283065512978986, 0.927070457354759, 0.9245982694684796, 0.9085290482076638, 0.9060568603213844, 0.9196538936959209, 0.92336217552534, 0.907292954264524, 0.9128553770086527, 0.9011124845488258, 0.92336217552534, 0.899876390605686, 0.9245982694684796, 0.9159456118665018, 0.9239802224969098, 0.9258343634116193, 0.9054388133498146, 0.9054388133498146, 0.9091470951792336, 0.904202719406675, 0.92336217552534, 0.9134734239802225, 0.8980222496909765, 0.9227441285537701, 0.9215080346106304, 0.8788627935723115, 0.907292954264524, 0.8831891223733004, 0.9029666254635352, 0.8980222496909765, 0.9283065512978986, 0.9110012360939431, 0.9097651421508035, 0.9258343634116193, 0.9035846724351051, 0.9258343634116193, 0.9004944375772559, 0.899876390605686, 0.9320148331273177, 0.9085290482076638, 0.9091470951792336, 0.9035846724351051, 0.8980222496909765, 0.9252163164400494, 0.9165636588380717, 0.896168108776267, 0.9079110012360939, 0.9227441285537701, 0.9023485784919654, 0.9239802224969098, 0.9079110012360939, 0.9165636588380717, 0.8974042027194067, 0.8893695920889988, 0.9208899876390606, 0.9388133498145859, 0.9171817058096415, 0.9079110012360939, 0.9264524103831892, 0.9091470951792336, 0.8992583436341162, 0.9400494437577256, 0.88442521631644, 0.9079110012360939, 0.9165636588380717, 0.9134734239802225, 0.8868974042027195, 0.911619283065513, 0.9252163164400494, 0.9134734239802225, 0.9128553770086527, 0.8856613102595797, 0.9140914709517923, 0.9011124845488258, 0.9264524103831892, 0.9301606922126081, 0.9159456118665018, 0.9276885043263288, 0.9245982694684796, 0.9035846724351051, 0.9066749072929543, 0.9128553770086527, 0.9239802224969098, 0.907292954264524, 0.9264524103831892, 0.8819530284301607, 0.9313967861557478, 0.9357231149567367, 0.8566131025957973, 0.9103831891223733]\n",
            "variance =  0.00020253544411526076\n",
            "moyenne =  0.9123856613102594\n"
          ],
          "name": "stdout"
        }
      ]
    },
    {
      "cell_type": "markdown",
      "metadata": {
        "id": "interior-minnesota"
      },
      "source": [
        "## Question :\n",
        "\n",
        "Construire le graphique `accuracy` vs `n_estimators`. Que constatez-vous ? A partir de quelle valeur on n’améliore plus ?"
      ],
      "id": "interior-minnesota"
    },
    {
      "cell_type": "code",
      "metadata": {
        "hide-output": false,
        "id": "simplified-jewel",
        "colab": {
          "base_uri": "https://localhost:8080/",
          "height": 298
        },
        "outputId": "9dc96a88-daf5-4221-f813-5066d05aefe5"
      },
      "source": [
        "X_train, X_test, y_train, y_test = train_test_split(X, y, test_size=0.90)\n",
        "acc_tot = []\n",
        "nb_est = []\n",
        "for i in range(1,200):\n",
        "  clf = RandomForestClassifier(n_estimators=i)\n",
        "  clf.fit(X_train, y_train)\n",
        "  Z = clf.predict(X_test)\n",
        "  acc_tot.append(clf.score(X_test,y_test))\n",
        "  nb_est.append(i)\n",
        "fig = plt.figure(figsize=(12, 4))\n",
        "plt.plot(nb_est, acc_tot)\n",
        "plt.title(\"accuracy\")"
      ],
      "id": "simplified-jewel",
      "execution_count": null,
      "outputs": [
        {
          "output_type": "execute_result",
          "data": {
            "text/plain": [
              "Text(0.5, 1.0, 'accuracy')"
            ]
          },
          "metadata": {
            "tags": []
          },
          "execution_count": 13
        },
        {
          "output_type": "display_data",
          "data": {
            "image/png": "[encoded data removed]",
            "text/plain": [
              "<Figure size 864x288 with 1 Axes>"
            ]
          },
          "metadata": {
            "tags": [],
            "needs_background": "light"
          }
        }
      ]
    },
    {
      "cell_type": "markdown",
      "metadata": {
        "id": "silent-richmond"
      },
      "source": [
        "## Question :\n",
        "\n",
        "Regardez dans la documentation les *ExtraTreesClassifier* et refaites la classification avec ce type de classifieur. Comparez avec *RandomForestClassifier*."
      ],
      "id": "silent-richmond"
    },
    {
      "cell_type": "code",
      "metadata": {
        "colab": {
          "base_uri": "https://localhost:8080/",
          "height": 298
        },
        "id": "lIvwI8i0IISy",
        "outputId": "cb485091-b241-4386-bc2d-779f8e77e389"
      },
      "source": [
        "from sklearn.ensemble import ExtraTreesClassifier\n",
        "\n",
        "X_train, X_test, y_train, y_test = train_test_split(X, y, test_size=0.90)\n",
        "acc_tot = []\n",
        "nb_est = []\n",
        "for i in range(1,200):\n",
        "  clf = ExtraTreesClassifier(n_estimators=i)\n",
        "  clf.fit(X_train, y_train)\n",
        "  Z = clf.predict(X_test)\n",
        "  acc_tot.append(clf.score(X_test,y_test))\n",
        "  nb_est.append(i)\n",
        "fig = plt.figure(figsize=(12, 4))\n",
        "plt.plot(nb_est, acc_tot)\n",
        "plt.title(\"accuracy\")"
      ],
      "id": "lIvwI8i0IISy",
      "execution_count": null,
      "outputs": [
        {
          "output_type": "execute_result",
          "data": {
            "text/plain": [
              "Text(0.5, 1.0, 'accuracy')"
            ]
          },
          "metadata": {
            "tags": []
          },
          "execution_count": 14
        },
        {
          "output_type": "display_data",
          "data": {
            "image/png": "[encoded data removed]",
            "text/plain": [
              "<Figure size 864x288 with 1 Axes>"
            ]
          },
          "metadata": {
            "tags": [],
            "needs_background": "light"
          }
        }
      ]
    },
    {
      "cell_type": "markdown",
      "metadata": {
        "id": "wound-minute"
      },
      "source": [
        "## *Boosting*\n",
        "\n",
        "Le principe du *boosting* est d’évaluer une séquence de classifieurs faibles (*weak learners*) sur plusieurs versions légèrement modifiées des données d’apprentissage. Les décisions obtenues sont alors combinées par une somme ponderée pour obtenir le modèle final.\n",
        "\n",
        "Avec scikit-learn, c’est la classe `AdaBoostClassifier` qui implémente cet algorithme. Les paramètres les plus importants sont :\n",
        "\n",
        "> - `n_estimators` : integer, optional (default=10). Le nombre de classifieurs faibles.  \n",
        "- `learning_rate` : contrôle la vitesse de changement des poids par itération.  \n",
        "- `base_estimator` : (default=DecisionTreeClassifier) le classifieur faible utilisé.  \n",
        "\n",
        "\n",
        "\n",
        "Dans la suite nous allons refaire la classification sur la base Digits en utilisant un classifieur `RandomForestClassifier` :"
      ],
      "id": "wound-minute"
    },
    {
      "cell_type": "code",
      "metadata": {
        "hide-output": false,
        "id": "rental-mistress",
        "colab": {
          "base_uri": "https://localhost:8080/"
        },
        "outputId": "140c4046-ea48-49de-c705-8b62457c9792"
      },
      "source": [
        "from sklearn.ensemble import AdaBoostClassifier\n",
        "\n",
        "digits = load_digits()\n",
        "X, y = digits.data, digits.target\n",
        "\n",
        "X_train, X_test, y_train, y_test = train_test_split(X, y, test_size=0.90)\n",
        "\n",
        "# AdaBoost basé sur 200 arbres de décision\n",
        "clf = AdaBoostClassifier(base_estimator=tree.DecisionTreeClassifier(max_depth=5), n_estimators=200, learning_rate=2)\n",
        "clf.fit(X_train, y_train)\n",
        "accuracy = clf.score(X_test, y_test)\n",
        "print(accuracy)"
      ],
      "id": "rental-mistress",
      "execution_count": 13,
      "outputs": [
        {
          "output_type": "stream",
          "text": [
            "0.92336217552534\n"
          ],
          "name": "stdout"
        }
      ]
    },
    {
      "cell_type": "markdown",
      "metadata": {
        "id": "still-center"
      },
      "source": [
        "## Question :\n",
        "\n",
        "Le paramètre `max_depth` contrôle la profondeur de l’arbre. Essayez plusieurs valeurs pour voir l’impact de l’utilisation d’un classifieur faible vs plus fort (`max_depth` élevé ou éliminer le paramètre). Testez aussi l’effet du paramètre `learning_rate` et le nombre de classifieurs."
      ],
      "id": "still-center"
    },
    {
      "cell_type": "code",
      "metadata": {
        "colab": {
          "base_uri": "https://localhost:8080/"
        },
        "id": "q7f3ux3XImI0",
        "outputId": "675d4e2f-c0f3-4b49-aabb-3423f9090cc1"
      },
      "source": [
        "# AdaBoost basé sur 200 arbres de décision + varier max_depth\n",
        "clf = AdaBoostClassifier(base_estimator=tree.DecisionTreeClassifier(max_depth=3), n_estimators=200, learning_rate=2)\n",
        "clf.fit(X_train, y_train)\n",
        "accuracy = clf.score(X_test, y_test)\n",
        "print(\"accuracy (depth=3) =\", accuracy)\n",
        "\n",
        "clf = AdaBoostClassifier(base_estimator=tree.DecisionTreeClassifier(max_depth=5), n_estimators=200, learning_rate=2)\n",
        "clf.fit(X_train, y_train)\n",
        "accuracy = clf.score(X_test, y_test)\n",
        "print(\"accuracy (depth=5) =\", accuracy)\n",
        "\n",
        "clf = AdaBoostClassifier(base_estimator=tree.DecisionTreeClassifier(max_depth=7), n_estimators=200, learning_rate=2)\n",
        "clf.fit(X_train, y_train)\n",
        "accuracy = clf.score(X_test, y_test)\n",
        "print(\"accuracy (depth=7) =\", accuracy)\n",
        "\n",
        "clf = AdaBoostClassifier(base_estimator=tree.DecisionTreeClassifier(max_depth=9), n_estimators=200, learning_rate=2)\n",
        "clf.fit(X_train, y_train)\n",
        "accuracy = clf.score(X_test, y_test)\n",
        "print(\"accuracy (depth=9) =\", accuracy)\n",
        "\n",
        "clf = AdaBoostClassifier(base_estimator=tree.DecisionTreeClassifier(max_depth=11), n_estimators=200, learning_rate=2)\n",
        "clf.fit(X_train, y_train)\n",
        "accuracy = clf.score(X_test, y_test)\n",
        "print(\"accuracy (depth=11) =\", accuracy)\n",
        "\n",
        "# AdaBoost basé sur 200 arbres de décision + varier learning_rate\n",
        "clf = AdaBoostClassifier(base_estimator=tree.DecisionTreeClassifier(max_depth=5), n_estimators=200, learning_rate=0.25)\n",
        "clf.fit(X_train, y_train)\n",
        "accuracy = clf.score(X_test, y_test)\n",
        "print(\"accuracy (rate=0.25) =\", accuracy)\n",
        "\n",
        "clf = AdaBoostClassifier(base_estimator=tree.DecisionTreeClassifier(max_depth=5), n_estimators=200, learning_rate=0.5)\n",
        "clf.fit(X_train, y_train)\n",
        "accuracy = clf.score(X_test, y_test)\n",
        "print(\"accuracy (rate=0.5) =\", accuracy)\n",
        "\n",
        "clf = AdaBoostClassifier(base_estimator=tree.DecisionTreeClassifier(max_depth=5), n_estimators=200, learning_rate=1)\n",
        "clf.fit(X_train, y_train)\n",
        "accuracy = clf.score(X_test, y_test)\n",
        "print(\"accuracy (rate=1) =\", accuracy)\n",
        "\n",
        "clf = AdaBoostClassifier(base_estimator=tree.DecisionTreeClassifier(max_depth=5), n_estimators=200, learning_rate=2)\n",
        "clf.fit(X_train, y_train)\n",
        "accuracy = clf.score(X_test, y_test)\n",
        "print(\"accuracy (rate=2) =\", accuracy)\n",
        "\n",
        "clf = AdaBoostClassifier(base_estimator=tree.DecisionTreeClassifier(max_depth=5), n_estimators=200, learning_rate=4)\n",
        "clf.fit(X_train, y_train)\n",
        "accuracy = clf.score(X_test, y_test)\n",
        "print(\"accuracy (rate=4) =\", accuracy)\n",
        "\n",
        "clf = AdaBoostClassifier(base_estimator=tree.DecisionTreeClassifier(max_depth=5), n_estimators=200, learning_rate=8)\n",
        "clf.fit(X_train, y_train)\n",
        "accuracy = clf.score(X_test, y_test)\n",
        "print(\"accuracy (rate=8) =\", accuracy)"
      ],
      "id": "q7f3ux3XImI0",
      "execution_count": null,
      "outputs": [
        {
          "output_type": "stream",
          "text": [
            "accuracy (depth=3) = 0.8541409147095179\n",
            "accuracy (depth=5) = 0.8831891223733004\n",
            "accuracy (depth=7) = 0.8955500618046972\n",
            "accuracy (depth=11) = 0.6619283065512979\n",
            "accuracy (depth=11) = 0.6637824474660075\n",
            "accuracy (rate=0.25) = 0.8862793572311496\n",
            "accuracy (rate=0.5) = 0.904202719406675\n",
            "accuracy (rate=1) = 0.8992583436341162\n",
            "accuracy (rate=2) = 0.8887515451174289\n",
            "accuracy (rate=4) = 0.842398022249691\n",
            "accuracy (rate=8) = 0.6996291718170581\n"
          ],
          "name": "stdout"
        }
      ]
    },
    {
      "cell_type": "code",
      "metadata": {
        "id": "7RARbT1ERXZ7"
      },
      "source": [
        "clf = AdaBoostClassifier(base_estimator=tree.DecisionTreeClassifier(), n_estimators=200)\n",
        "parameters = {'max_depth':np.arange(3, 9, 1), 'learning_rate':np.arange(0.1, 3, 0.2)}\n",
        "clf = GridSearchCV(clf, parameters)\n",
        "clf.fit(X_train, y_train)\n",
        "accuracy = clf.score(X_test, y_test)"
      ],
      "id": "7RARbT1ERXZ7",
      "execution_count": null,
      "outputs": []
    },
    {
      "cell_type": "code",
      "metadata": {
        "colab": {
          "base_uri": "https://localhost:8080/",
          "height": 298
        },
        "id": "klwPFLVrKLoi",
        "outputId": "18c3b391-67cf-4e61-c1ff-64af90f57126"
      },
      "source": [
        "X_train, X_test, y_train, y_test = train_test_split(X, y, test_size=0.90)\n",
        "acc_tot = []\n",
        "nb_est = []\n",
        "for i in range(1,200):\n",
        "  clf = AdaBoostClassifier(base_estimator=tree.DecisionTreeClassifier(max_depth=5), n_estimators=i, learning_rate=0.5)\n",
        "  clf.fit(X_train, y_train)\n",
        "  Z = clf.predict(X_test)\n",
        "  acc_tot.append(clf.score(X_test,y_test))\n",
        "  nb_est.append(i)\n",
        "fig = plt.figure(figsize=(12, 4))\n",
        "plt.plot(nb_est, acc_tot)\n",
        "plt.title(\"accuracy\")"
      ],
      "id": "klwPFLVrKLoi",
      "execution_count": null,
      "outputs": [
        {
          "output_type": "execute_result",
          "data": {
            "text/plain": [
              "Text(0.5, 1.0, 'accuracy')"
            ]
          },
          "metadata": {
            "tags": []
          },
          "execution_count": 24
        },
        {
          "output_type": "display_data",
          "data": {
            "image/png": "[encoded data removed]",
            "text/plain": [
              "<Figure size 864x288 with 1 Axes>"
            ]
          },
          "metadata": {
            "tags": [],
            "needs_background": "light"
          }
        }
      ]
    }
  ]
}